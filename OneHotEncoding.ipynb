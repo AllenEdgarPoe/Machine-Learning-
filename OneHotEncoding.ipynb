{
 "cells": [
  {
   "cell_type": "code",
   "execution_count": 106,
   "metadata": {},
   "outputs": [],
   "source": [
    "import numpy as np\n",
    "import matplotlib.pyplot as plt \n",
    "from sklearn.model_selection import train_test_split\n",
    "from sklearn import preprocessing\n",
    "import os"
   ]
  },
  {
   "cell_type": "code",
   "execution_count": 107,
   "metadata": {},
   "outputs": [],
   "source": [
    "url = os.getcwd().replace('\\\\','/')+'/'+'Perceptron/mushroom.txt'\n",
    "with open(url) as a:\n",
    "    data = np.array([x.split(',') for x in a.read().split('\\n')])"
   ]
  },
  {
   "cell_type": "code",
   "execution_count": 108,
   "metadata": {},
   "outputs": [],
   "source": [
    "le = preprocessing.LabelEncoder()\n",
    "column = data[:,0]\n",
    "set_col = list(set(column))\n",
    "le.fit(column)\n",
    "y = le.transform(column)"
   ]
  },
  {
   "cell_type": "code",
   "execution_count": 109,
   "metadata": {},
   "outputs": [],
   "source": [
    "X = np.array([])\n",
    "for n in range(1,data.shape[1]):\n",
    "    col = data[:,n]\n",
    "    set_col = set(col)\n",
    "    matrix = np.eye(len(set(col)))\n",
    "    X_1 = np.array([matrix[list(set_col).index(i)] for i in col])\n",
    "    if X.shape == (0,):\n",
    "        X = X_1\n",
    "    else:\n",
    "        X =np.hstack((X,X_1))  "
   ]
  },
  {
   "cell_type": "code",
   "execution_count": 110,
   "metadata": {},
   "outputs": [],
   "source": [
    "class Perceptron:\n",
    "    def __init__(self,eta = 0.1, epochs = 10, random_seed=3):\n",
    "        self.eta = eta\n",
    "        self.epochs = epochs\n",
    "        self.random_seed = random_seed\n",
    "    def fit(self, X, y ,X0= False):\n",
    "        if X0 == False:\n",
    "            X = np.c_[np.ones(len(y)), X]\n",
    "        np.random.seed(self.random_seed)\n",
    "        self.w = np.random.random(X.shape[1])\n",
    "        \n",
    "        self.maxy,self.miny = y.max(),y.min()\n",
    "        self.cost_=[] #인스턴스 변수로 사용하려면 self.을 붙여야 한다. 변수를 리스트로 초기화.\n",
    "        self.w_=np.array([self.w]) #self.w_는 변화된 w를 또 하나의 벡터로 변환해서 w의 변화를 보는 것.\n",
    "        \n",
    "        for i in range(self.epochs):\n",
    "            self.errors = 0\n",
    "            for xi,yi in zip(X,y):\n",
    "                yhat = self.activate(xi)\n",
    "                delta = self.eta*(yi-yhat)*xi\n",
    "                self.w = self.w +delta\n",
    "                if yi!=yhat:\n",
    "                    self.errors += 1\n",
    "            self.cost_.append(self.errors)\n",
    "            self.w_ = np.vstack([self.w_,self.w]) #w_에 w 추가.\n",
    "        return self.errors\n",
    "    \n",
    "    def net_input(self,X):\n",
    "        if X.shape[0] == self.w.shape[0]: #편향값이 1이 아닌 경우를 검사하기 위해\n",
    "            z = np.dot(self.w.T, X)\n",
    "        else:\n",
    "            z = np.dot(X, self.w[1:])+self.w[0]\n",
    "        return z\n",
    "    \n",
    "    def activate(self,X):\n",
    "        mid = (self.maxy + self.miny)/2\n",
    "        return np.where(self.net_input(X)>mid, self.maxy, self.miny)\n",
    "    \n",
    "    def predict(self,X):\n",
    "        return self.activate(X) #이미 계산된 가중치로 새로운 입력 특성에 대해 예측하는 함수. \n",
    "                "
   ]
  },
  {
   "cell_type": "code",
   "execution_count": 111,
   "metadata": {},
   "outputs": [],
   "source": [
    "X_train, X_test, y_train, y_test = train_test_split(X,y)"
   ]
  },
  {
   "cell_type": "code",
   "execution_count": 112,
   "metadata": {},
   "outputs": [
    {
     "name": "stdout",
     "output_type": "stream",
     "text": [
      "Wall time: 3.86 s\n"
     ]
    },
    {
     "data": {
      "image/png": "[encoded data removed]",
      "text/plain": [
       "<Figure size 432x288 with 1 Axes>"
      ]
     },
     "metadata": {},
     "output_type": "display_data"
    }
   ],
   "source": [
    "%%time\n",
    "ppn = Perceptron(eta = 0.1, epochs=100)\n",
    "ppn.fit(X_train,y_train)\n",
    "plt.plot(range(1,len(ppn.cost_)+1),ppn.cost_,marker='o')\n",
    "plt.xlabel('Epochs')\n",
    "plt.ylabel('Misclassified Samples')\n",
    "plt.savefig('Epochs',dpi = 150)"
   ]
  },
  {
   "cell_type": "code",
   "execution_count": 114,
   "metadata": {},
   "outputs": [
    {
     "data": {
      "text/plain": [
       "1.0"
      ]
     },
     "execution_count": 114,
     "metadata": {},
     "output_type": "execute_result"
    }
   ],
   "source": [
    "np.mean(ppn.predict(X_test) == y_test)"
   ]
  },
  {
   "cell_type": "code",
   "execution_count": null,
   "metadata": {},
   "outputs": [],
   "source": []
  }
 ],
 "metadata": {
  "kernelspec": {
   "display_name": "Python 3",
   "language": "python",
   "name": "python3"
  },
  "language_info": {
   "codemirror_mode": {
    "name": "ipython",
    "version": 3
   },
   "file_extension": ".py",
   "mimetype": "text/x-python",
   "name": "python",
   "nbconvert_exporter": "python",
   "pygments_lexer": "ipython3",
   "version": "3.6.5"
  }
 },
 "nbformat": 4,
 "nbformat_minor": 2
}
