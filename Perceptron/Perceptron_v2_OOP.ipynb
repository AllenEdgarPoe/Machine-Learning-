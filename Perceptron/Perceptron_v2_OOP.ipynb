{
 "cells": [
  {
   "cell_type": "markdown",
   "metadata": {},
   "source": [
    "### Simple Perceptron in OOP form"
   ]
  },
  {
   "cell_type": "code",
   "execution_count": 1,
   "metadata": {},
   "outputs": [],
   "source": [
    "import numpy as np\n",
    "import matplotlib.pyplot as plt \n",
    "from sklearn import preprocessing\n"
   ]
  },
  {
   "cell_type": "code",
   "execution_count": 2,
   "metadata": {},
   "outputs": [],
   "source": [
    "class Perceptron:\n",
    "    def __init__(self,eta = 0.1, epochs = 10, random_seed=3):\n",
    "        self.eta = eta\n",
    "        self.epochs = epochs\n",
    "        self.random_seed = random_seed\n",
    "    def fit(self, X, y ,X0= False):\n",
    "        if X0 == False:\n",
    "            X = np.c_[np.ones(len(y)), X]\n",
    "        np.random.seed(self.random_seed)\n",
    "        self.w = np.random.random(X.shape[1])\n",
    "        \n",
    "        self.maxy,self.miny = y.max(),y.min()\n",
    "        self.cost_=[] #인스턴스 변수로 사용하려면 self.을 붙여야 한다. 변수를 리스트로 초기화.\n",
    "        self.w_=np.array([self.w]) #self.w_는 변화된 w를 또 하나의 벡터로 변환해서 w의 변화를 보는 것.\n",
    "        \n",
    "        for i in range(self.epochs):\n",
    "            self.errors = 0\n",
    "            for xi,yi in zip(X,y):\n",
    "                yhat = self.activate(xi)\n",
    "                delta = self.eta*(yi-yhat)*xi\n",
    "                self.w = self.w +delta\n",
    "                if yi!=yhat:\n",
    "                    self.errors += 1\n",
    "            self.cost_.append(self.errors)\n",
    "            self.w_ = np.vstack([self.w_,self.w]) #w_에 w 추가.\n",
    "        return self.errors\n",
    "    \n",
    "    def net_input(self,X):\n",
    "        if X.shape[0] == self.w.shape[0]: #편향값이 1이 아닌 경우를 검사하기 위해\n",
    "            z = np.dot(self.w.T, X)\n",
    "        else:\n",
    "            z = np.dot(X, self.w[1:])+self.w[0]\n",
    "        return z\n",
    "    \n",
    "    def activate(self,X):\n",
    "        mid = (self.maxy + self.miny)/2\n",
    "        return np.where(self.net_input(X)>mid, self.maxy, self.miny)\n",
    "    \n",
    "    def predict(self,X):\n",
    "        return self.activate(X) #이미 계산된 가중치로 새로운 입력 특성에 대해 예측하는 함수. \n",
    "                "
   ]
  },
  {
   "cell_type": "code",
   "execution_count": 3,
   "metadata": {},
   "outputs": [],
   "source": [
    "class feature_detector:\n",
    "    def read(self,url):\n",
    "        with open(os.getcwd().replace('\\\\','/')+'/mushroom.txt') as mushroom:\n",
    "            self.raw_data = np.array([i.split(',') for i in mushroom.read().split('\\n')])\n",
    "        return self.raw_data\n",
    "    \n",
    "    def Transform(self,column):\n",
    "        le = preprocessing.LabelEncoder()\n",
    "        set_col = list(set(column))\n",
    "        le.fit(column)\n",
    "        self.array = le.transform(column)\n",
    "        set_array = le.transform(set_col)\n",
    "        self.col_dict = dict(zip(set_col, set_array))\n",
    "        return (self.array, self.col_dict)\n",
    "    \n",
    "    def concatenate(self):\n",
    "        target, self.target_label = self.Transform(self.raw_data[:,0]) #target \n",
    "        self.target = target.reshape(self.raw_data.shape[0],1)\n",
    "        self.feature_type = []\n",
    "\n",
    "        col1, col1_dict = self.Transform(self.raw_data[:,1])\n",
    "        self.data = np.array(col1).reshape(self.raw_data.shape[0],1)\n",
    "\n",
    "        for n in range(2,self.raw_data.shape[1]):\n",
    "            column = self.raw_data[:,n]\n",
    "            array, dictionary = self.Transform(column)\n",
    "            self.data = np.hstack([self.data,np.array(array).reshape(self.raw_data.shape[0],1)])\n",
    "            self.feature_type.append(dictionary)\n",
    "        \n",
    "        return (self.data, self.target, self.feature_type, self.target_label)"
   ]
  },
  {
   "cell_type": "markdown",
   "metadata": {},
   "source": [
    "The following class `feature_detector` is previous version for one-hot encoding. "
   ]
  },
  {
   "cell_type": "markdown",
   "metadata": {},
   "source": [
    "#### Data Pre-processing"
   ]
  },
  {
   "cell_type": "code",
   "execution_count": 4,
   "metadata": {},
   "outputs": [],
   "source": [
    "import os \n",
    "from sklearn.model_selection import train_test_split\n",
    "mushroom = feature_detector()\n",
    "raw_data =mushroom.read(os.getcwd().replace('\\\\','/')+'/mushroom.txt')\n",
    "X,y,x_label,y_label = mushroom.concatenate()\n",
    "X_train, X_test, y_train, y_test = train_test_split(X,y)"
   ]
  },
  {
   "cell_type": "markdown",
   "metadata": {},
   "source": [
    "### Training and Predict"
   ]
  },
  {
   "cell_type": "code",
   "execution_count": 5,
   "metadata": {},
   "outputs": [
    {
     "name": "stdout",
     "output_type": "stream",
     "text": [
      "Wall time: 3.78 s\n"
     ]
    },
    {
     "data": {
      "image/png": "[encoded data removed]",
      "text/plain": [
       "<Figure size 432x288 with 1 Axes>"
      ]
     },
     "metadata": {},
     "output_type": "display_data"
    }
   ],
   "source": [
    "%%time\n",
    "ppn = Perceptron(eta = 0.1, epochs=100)\n",
    "ppn.fit(X_train,y_train)\n",
    "plt.plot(range(1,len(ppn.cost_)+1),ppn.cost_,marker='o')\n",
    "plt.xlabel('Epochs')\n",
    "plt.ylabel('Misclassified Samples')\n",
    "plt.savefig('Epochs',dpi = 150)"
   ]
  },
  {
   "cell_type": "markdown",
   "metadata": {},
   "source": [
    "### Accuracy"
   ]
  },
  {
   "cell_type": "code",
   "execution_count": 6,
   "metadata": {},
   "outputs": [
    {
     "data": {
      "text/plain": [
       "0.5003569730719878"
      ]
     },
     "execution_count": 6,
     "metadata": {},
     "output_type": "execute_result"
    }
   ],
   "source": [
    "np.mean(ppn.predict(X_test) == y_test)"
   ]
  },
  {
   "cell_type": "markdown",
   "metadata": {},
   "source": [
    "#### Accuracy is very small,,, using LabelEncoder() was not a good idea"
   ]
  },
  {
   "cell_type": "markdown",
   "metadata": {},
   "source": [
    "### Then, use One-hot Encoding to transform feature name into number"
   ]
  },
  {
   "cell_type": "code",
   "execution_count": 7,
   "metadata": {},
   "outputs": [],
   "source": [
    "class OneHotEncoding:\n",
    "    def read(self,url):\n",
    "        with open (url) as mushroom:\n",
    "            self.raw_data = np.array([i.split(',') for i in mushroom.read().split('\\n') if i!=''])\n",
    "            return self.raw_data\n",
    "    def encoding(self,raw_data):\n",
    "        self.raw_data = raw_data\n",
    "        attributes={}\n",
    "        for i in range(0,self.raw_data.shape[1]):\n",
    "            p=set()\n",
    "            for j in self.raw_data:\n",
    "                p.add(j[i])\n",
    "            attributes[i]=p\n",
    "        values = [list(i) for i in attributes.values()]\n",
    "        total = []\n",
    "        for data in self.raw_data:\n",
    "            tag = np.array([])\n",
    "            for i in range(0,len(values)):\n",
    "                a = np.zeros(len(values[i]))\n",
    "                b = a.copy()\n",
    "                feature = data[i]\n",
    "                b[values[i].index(feature)] = 1\n",
    "                tag = np.r_[tag,b]\n",
    "            total.append(tag)\n",
    "        total = np.array(total)\n",
    "        np.random.seed(1)\n",
    "        np.random.shuffle(total)\n",
    "        x = np.array([i[:-2] for i in total])\n",
    "        y = np.array([i[-1] for i in total])\n",
    "        return(x,y)\n"
   ]
  },
  {
   "cell_type": "code",
   "execution_count": 8,
   "metadata": {},
   "outputs": [],
   "source": [
    "hot = OneHotEncoding()\n",
    "raw_data = hot.read(os.getcwd().replace('\\\\','/')+'/mushroom.txt')\n",
    "X,y = hot.encoding(raw_data)\n",
    "X_train, X_test, y_train, y_test = train_test_split(X,y)"
   ]
  },
  {
   "cell_type": "code",
   "execution_count": 9,
   "metadata": {},
   "outputs": [
    {
     "name": "stdout",
     "output_type": "stream",
     "text": [
      "Wall time: 2.88 s\n"
     ]
    },
    {
     "data": {
      "image/png": "[encoded data removed]",
      "text/plain": [
       "<Figure size 432x288 with 1 Axes>"
      ]
     },
     "metadata": {},
     "output_type": "display_data"
    }
   ],
   "source": [
    "%%time\n",
    "ppn = Perceptron(eta = 0.1, epochs=100)\n",
    "ppn.fit(X_train,y_train)\n",
    "plt.plot(range(1,len(ppn.cost_)+1),ppn.cost_,marker='o')\n",
    "plt.xlabel('Epochs')\n",
    "plt.ylabel('Misclassified Samples')\n",
    "plt.savefig('Epochs',dpi = 150)"
   ]
  },
  {
   "cell_type": "markdown",
   "metadata": {},
   "source": [
    "### Accuracy"
   ]
  },
  {
   "cell_type": "code",
   "execution_count": 10,
   "metadata": {},
   "outputs": [
    {
     "data": {
      "text/plain": [
       "1.0"
      ]
     },
     "execution_count": 10,
     "metadata": {},
     "output_type": "execute_result"
    }
   ],
   "source": [
    "np.mean(ppn.predict(X_test) == y_test)"
   ]
  }
 ],
 "metadata": {
  "kernelspec": {
   "display_name": "Python 3",
   "language": "python",
   "name": "python3"
  },
  "language_info": {
   "codemirror_mode": {
    "name": "ipython",
    "version": 3
   },
   "file_extension": ".py",
   "mimetype": "text/x-python",
   "name": "python",
   "nbconvert_exporter": "python",
   "pygments_lexer": "ipython3",
   "version": "3.6.5"
  }
 },
 "nbformat": 4,
 "nbformat_minor": 2
}
