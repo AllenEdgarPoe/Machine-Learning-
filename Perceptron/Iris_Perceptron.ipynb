{
 "cells": [
  {
   "cell_type": "markdown",
   "metadata": {},
   "source": [
    "### I tried to check whether there is something wrong with my Perceptron model..\n",
    "<br> So I replaced the data with rather simple features.. Iris Data\n",
    "<br> Iris data contains only 4 features when mushroom data has "
   ]
  },
  {
   "cell_type": "code",
   "execution_count": 1,
   "metadata": {},
   "outputs": [],
   "source": [
    "import numpy as np\n",
    "import matplotlib.pyplot as plt \n",
    "from sklearn import preprocessing\n"
   ]
  },
  {
   "cell_type": "code",
   "execution_count": 2,
   "metadata": {},
   "outputs": [],
   "source": [
    "class Perceptron:\n",
    "    def __init__(self,eta = 0.1, epochs = 10, random_seed=3):\n",
    "        self.eta = eta\n",
    "        self.epochs = epochs\n",
    "        self.random_seed = random_seed\n",
    "    def fit(self, X, y ,X0= False):\n",
    "        if X0 == False:\n",
    "            X = np.c_[np.ones(len(y)), X]\n",
    "        np.random.seed(self.random_seed)\n",
    "        self.w = np.random.random(X.shape[1])\n",
    "        \n",
    "        self.maxy,self.miny = y.max(),y.min()\n",
    "        self.cost_=[] #인스턴스 변수로 사용하려면 self.을 붙여야 한다. 변수를 리스트로 초기화.\n",
    "        self.w_=np.array([self.w]) #self.w_는 변화된 w를 또 하나의 벡터로 변환해서 w의 변화를 보는 것.\n",
    "        \n",
    "        for i in range(self.epochs):\n",
    "            self.errors = 0\n",
    "            for xi,yi in zip(X,y):\n",
    "                yhat = self.activate(xi)\n",
    "                delta = self.eta*(yi-yhat)*xi\n",
    "                self.w = self.w +delta\n",
    "                if yi!=yhat:\n",
    "                    self.errors += 1\n",
    "            self.cost_.append(self.errors)\n",
    "            self.w_ = np.vstack([self.w_,self.w]) #w_에 w 추가.\n",
    "        return self.errors\n",
    "    \n",
    "    def net_input(self,X):\n",
    "        if X.shape[0] == self.w.shape[0]: #편향값이 1이 아닌 경우를 검사하기 위해\n",
    "            z = np.dot(self.w.T, X)\n",
    "        else:\n",
    "            z = np.dot(X, self.w[1:])+self.w[0]\n",
    "        return z\n",
    "    \n",
    "    def activate(self,X):\n",
    "        mid = (self.maxy + self.miny)/2\n",
    "        return np.where(self.net_input(X)>mid, self.maxy, self.miny)\n",
    "    \n",
    "    def predict(self,X):\n",
    "        return self.activate(X) #이미 계산된 가중치로 새로운 입력 특성에 대해 예측하는 함수. \n",
    "                "
   ]
  },
  {
   "cell_type": "code",
   "execution_count": 9,
   "metadata": {},
   "outputs": [],
   "source": [
    "class feature_detector:\n",
    "    def read(self,url):\n",
    "        with open(url) as mushroom:\n",
    "            self.raw_data = np.array([i.split(',') for i in mushroom.read().split('\\n')])\n",
    "        return self.raw_data\n",
    "    \n",
    "    def Transform(self,column):\n",
    "        le = preprocessing.LabelEncoder()\n",
    "        set_col = list(set(column))\n",
    "        le.fit(column)\n",
    "        self.array = le.transform(column)\n",
    "        set_array = le.transform(set_col)\n",
    "        self.col_dict = dict(zip(set_col, set_array))\n",
    "        return (self.array, self.col_dict)\n",
    "    \n",
    "    def concatenate(self):\n",
    "        target, self.target_label = self.Transform(self.raw_data[:,0]) #target \n",
    "        self.target = target.reshape(self.raw_data.shape[0],1)\n",
    "        self.feature_type = []\n",
    "\n",
    "        col1, col1_dict = self.Transform(self.raw_data[:,1])\n",
    "        self.data = np.array(col1).reshape(self.raw_data.shape[0],1)\n",
    "\n",
    "        for n in range(2,self.raw_data.shape[1]):\n",
    "            column = self.raw_data[:,n]\n",
    "            array, dictionary = self.Transform(column)\n",
    "            self.data = np.hstack([self.data,np.array(array).reshape(self.raw_data.shape[0],1)])\n",
    "            self.feature_type.append(dictionary)\n",
    "        \n",
    "        return (self.data, self.target, self.feature_type, self.target_label)"
   ]
  },
  {
   "cell_type": "code",
   "execution_count": 4,
   "metadata": {},
   "outputs": [],
   "source": [
    "class OneHotEncoding:\n",
    "    def diagonal_matrix(self,column):\n",
    "        num = np.unique(column).shape[0]\n",
    "        array = np.eye(num)[column]\n",
    "        return(array)\n",
    "\n",
    "    def encoding(self, x):\n",
    "        col1 = self.diagonal_matrix(x[:,0])\n",
    "        for n in range(1, x.shape[1]):\n",
    "            column = x[:,n]\n",
    "            col1 = np.hstack([col1,self.diagonal_matrix(column)])    \n",
    "        return(col1)"
   ]
  },
  {
   "cell_type": "code",
   "execution_count": 65,
   "metadata": {},
   "outputs": [],
   "source": [
    "import os \n",
    "from sklearn.model_selection import train_test_split\n",
    "iris = feature_detector()\n",
    "data = iris.read(os.getcwd().replace('\\\\','/')+'/iris_data.txt')\n",
    "X = data[:,:4].astype('float')\n",
    "y, target_label = iris.Transform(data[:,-1])\n",
    "y = y.astype('float')"
   ]
  },
  {
   "cell_type": "markdown",
   "metadata": {},
   "source": [
    "### Simple Perceptron can only classify data with 2 labels, so I extracted data with only 2 classes"
   ]
  },
  {
   "cell_type": "code",
   "execution_count": 76,
   "metadata": {},
   "outputs": [],
   "source": [
    "data = np.array([['5.1', '3.5', '1.4', '0.2', 'Iris-setosa'],\n",
    "       ['4.9', '3.0', '1.4', '0.2', 'Iris-setosa'],\n",
    "       ['4.7', '3.2', '1.3', '0.2', 'Iris-setosa'],\n",
    "       ['4.6', '3.1', '1.5', '0.2', 'Iris-setosa'],\n",
    "       ['5.0', '3.6', '1.4', '0.2', 'Iris-setosa'],\n",
    "       ['5.4', '3.9', '1.7', '0.4', 'Iris-setosa'],\n",
    "       ['4.6', '3.4', '1.4', '0.3', 'Iris-setosa'],\n",
    "       ['5.0', '3.4', '1.5', '0.2', 'Iris-setosa'],\n",
    "       ['4.4', '2.9', '1.4', '0.2', 'Iris-setosa'],\n",
    "       ['4.9', '3.1', '1.5', '0.1', 'Iris-setosa'],\n",
    "       ['5.4', '3.7', '1.5', '0.2', 'Iris-setosa'],\n",
    "       ['4.8', '3.4', '1.6', '0.2', 'Iris-setosa'],\n",
    "       ['4.8', '3.0', '1.4', '0.1', 'Iris-setosa'],\n",
    "       ['4.3', '3.0', '1.1', '0.1', 'Iris-setosa'],\n",
    "       ['5.8', '4.0', '1.2', '0.2', 'Iris-setosa'],\n",
    "       ['5.7', '4.4', '1.5', '0.4', 'Iris-setosa'],\n",
    "       ['5.4', '3.9', '1.3', '0.4', 'Iris-setosa'],\n",
    "       ['5.1', '3.5', '1.4', '0.3', 'Iris-setosa'],\n",
    "       ['5.7', '3.8', '1.7', '0.3', 'Iris-setosa'],\n",
    "       ['5.1', '3.8', '1.5', '0.3', 'Iris-setosa'],\n",
    "       ['5.4', '3.4', '1.7', '0.2', 'Iris-setosa'],\n",
    "       ['5.1', '3.7', '1.5', '0.4', 'Iris-setosa'],\n",
    "       ['4.6', '3.6', '1.0', '0.2', 'Iris-setosa'],\n",
    "       ['5.1', '3.3', '1.7', '0.5', 'Iris-setosa'],\n",
    "       ['4.8', '3.4', '1.9', '0.2', 'Iris-setosa'],\n",
    "       ['5.0', '3.0', '1.6', '0.2', 'Iris-setosa'],\n",
    "       ['5.0', '3.4', '1.6', '0.4', 'Iris-setosa'],\n",
    "       ['5.2', '3.5', '1.5', '0.2', 'Iris-setosa'],\n",
    "       ['5.2', '3.4', '1.4', '0.2', 'Iris-setosa'],\n",
    "       ['4.7', '3.2', '1.6', '0.2', 'Iris-setosa'],\n",
    "       ['4.8', '3.1', '1.6', '0.2', 'Iris-setosa'],\n",
    "       ['5.4', '3.4', '1.5', '0.4', 'Iris-setosa'],\n",
    "       ['5.2', '4.1', '1.5', '0.1', 'Iris-setosa'],\n",
    "       ['5.5', '4.2', '1.4', '0.2', 'Iris-setosa'],\n",
    "       ['4.9', '3.1', '1.5', '0.1', 'Iris-setosa'],\n",
    "       ['5.0', '3.2', '1.2', '0.2', 'Iris-setosa'],\n",
    "       ['5.5', '3.5', '1.3', '0.2', 'Iris-setosa'],\n",
    "       ['4.9', '3.1', '1.5', '0.1', 'Iris-setosa'],\n",
    "       ['4.4', '3.0', '1.3', '0.2', 'Iris-setosa'],\n",
    "       ['5.1', '3.4', '1.5', '0.2', 'Iris-setosa'],\n",
    "       ['5.0', '3.5', '1.3', '0.3', 'Iris-setosa'],\n",
    "       ['4.5', '2.3', '1.3', '0.3', 'Iris-setosa'],\n",
    "       ['4.4', '3.2', '1.3', '0.2', 'Iris-setosa'],\n",
    "       ['5.0', '3.5', '1.6', '0.6', 'Iris-setosa'],\n",
    "       ['5.1', '3.8', '1.9', '0.4', 'Iris-setosa'],\n",
    "       ['4.8', '3.0', '1.4', '0.3', 'Iris-setosa'],\n",
    "       ['5.1', '3.8', '1.6', '0.2', 'Iris-setosa'],\n",
    "       ['4.6', '3.2', '1.4', '0.2', 'Iris-setosa'],\n",
    "       ['5.3', '3.7', '1.5', '0.2', 'Iris-setosa'],\n",
    "       ['5.0', '3.3', '1.4', '0.2', 'Iris-setosa'],\n",
    "       ['7.0', '3.2', '4.7', '1.4', 'Iris-versicolor'],\n",
    "       ['6.4', '3.2', '4.5', '1.5', 'Iris-versicolor'],\n",
    "       ['6.9', '3.1', '4.9', '1.5', 'Iris-versicolor'],\n",
    "       ['5.5', '2.3', '4.0', '1.3', 'Iris-versicolor'],\n",
    "       ['6.5', '2.8', '4.6', '1.5', 'Iris-versicolor'],\n",
    "       ['5.7', '2.8', '4.5', '1.3', 'Iris-versicolor'],\n",
    "       ['6.3', '3.3', '4.7', '1.6', 'Iris-versicolor'],\n",
    "       ['4.9', '2.4', '3.3', '1.0', 'Iris-versicolor'],\n",
    "       ['6.6', '2.9', '4.6', '1.3', 'Iris-versicolor'],\n",
    "       ['5.2', '2.7', '3.9', '1.4', 'Iris-versicolor'],\n",
    "       ['5.0', '2.0', '3.5', '1.0', 'Iris-versicolor'],\n",
    "       ['5.9', '3.0', '4.2', '1.5', 'Iris-versicolor'],\n",
    "       ['6.0', '2.2', '4.0', '1.0', 'Iris-versicolor'],\n",
    "       ['6.1', '2.9', '4.7', '1.4', 'Iris-versicolor'],\n",
    "       ['5.6', '2.9', '3.6', '1.3', 'Iris-versicolor'],\n",
    "       ['6.7', '3.1', '4.4', '1.4', 'Iris-versicolor'],\n",
    "       ['5.6', '3.0', '4.5', '1.5', 'Iris-versicolor'],\n",
    "       ['5.8', '2.7', '4.1', '1.0', 'Iris-versicolor'],\n",
    "       ['6.2', '2.2', '4.5', '1.5', 'Iris-versicolor'],\n",
    "       ['5.6', '2.5', '3.9', '1.1', 'Iris-versicolor'],\n",
    "       ['5.9', '3.2', '4.8', '1.8', 'Iris-versicolor'],\n",
    "       ['6.1', '2.8', '4.0', '1.3', 'Iris-versicolor'],\n",
    "       ['6.3', '2.5', '4.9', '1.5', 'Iris-versicolor'],\n",
    "       ['6.1', '2.8', '4.7', '1.2', 'Iris-versicolor'],\n",
    "       ['6.4', '2.9', '4.3', '1.3', 'Iris-versicolor'],\n",
    "       ['6.6', '3.0', '4.4', '1.4', 'Iris-versicolor'],\n",
    "       ['6.8', '2.8', '4.8', '1.4', 'Iris-versicolor'],\n",
    "       ['6.7', '3.0', '5.0', '1.7', 'Iris-versicolor'],\n",
    "       ['6.0', '2.9', '4.5', '1.5', 'Iris-versicolor'],\n",
    "       ['5.7', '2.6', '3.5', '1.0', 'Iris-versicolor'],\n",
    "       ['5.5', '2.4', '3.8', '1.1', 'Iris-versicolor'],\n",
    "       ['5.5', '2.4', '3.7', '1.0', 'Iris-versicolor'],\n",
    "       ['5.8', '2.7', '3.9', '1.2', 'Iris-versicolor'],\n",
    "       ['6.0', '2.7', '5.1', '1.6', 'Iris-versicolor'],\n",
    "       ['5.4', '3.0', '4.5', '1.5', 'Iris-versicolor'],\n",
    "       ['6.0', '3.4', '4.5', '1.6', 'Iris-versicolor'],\n",
    "       ['6.7', '3.1', '4.7', '1.5', 'Iris-versicolor'],\n",
    "       ['6.3', '2.3', '4.4', '1.3', 'Iris-versicolor'],\n",
    "       ['5.6', '3.0', '4.1', '1.3', 'Iris-versicolor'],\n",
    "       ['5.5', '2.5', '4.0', '1.3', 'Iris-versicolor'],\n",
    "       ['5.5', '2.6', '4.4', '1.2', 'Iris-versicolor'],\n",
    "       ['6.1', '3.0', '4.6', '1.4', 'Iris-versicolor'],\n",
    "       ['5.8', '2.6', '4.0', '1.2', 'Iris-versicolor'],\n",
    "       ['5.0', '2.3', '3.3', '1.0', 'Iris-versicolor'],\n",
    "       ['5.6', '2.7', '4.2', '1.3', 'Iris-versicolor'],\n",
    "       ['5.7', '3.0', '4.2', '1.2', 'Iris-versicolor'],\n",
    "       ['5.7', '2.9', '4.2', '1.3', 'Iris-versicolor'],\n",
    "       ['6.2', '2.9', '4.3', '1.3', 'Iris-versicolor'],\n",
    "       ['5.1', '2.5', '3.0', '1.1', 'Iris-versicolor'],\n",
    "       ['5.7', '2.8', '4.1', '1.3', 'Iris-versicolor']])"
   ]
  },
  {
   "cell_type": "code",
   "execution_count": 77,
   "metadata": {},
   "outputs": [],
   "source": [
    "X = data[:,:4].astype('float')\n",
    "y, target_label = iris.Transform(data[:,-1])\n",
    "y = y.astype('float')"
   ]
  },
  {
   "cell_type": "code",
   "execution_count": 78,
   "metadata": {},
   "outputs": [],
   "source": [
    "from sklearn.model_selection import train_test_split\n",
    "X_train, X_test, y_train, y_test = train_test_split(X,y)"
   ]
  },
  {
   "cell_type": "code",
   "execution_count": 79,
   "metadata": {},
   "outputs": [
    {
     "data": {
      "text/plain": [
       "Text(0,0.5,'Misclassified Samples')"
      ]
     },
     "execution_count": 79,
     "metadata": {},
     "output_type": "execute_result"
    },
    {
     "data": {
      "image/png": "[encoded data removed]",
      "text/plain": [
       "<Figure size 432x288 with 1 Axes>"
      ]
     },
     "metadata": {},
     "output_type": "display_data"
    }
   ],
   "source": [
    "ppn = Perceptron(eta = 0.001,epochs = 100)\n",
    "ppn.fit(X_train, y_train)\n",
    "plt.plot(range(1,len(ppn.cost_)+1),ppn.cost_,marker='o')\n",
    "plt.xlabel('Epochs')\n",
    "plt.ylabel('Misclassified Samples')"
   ]
  },
  {
   "cell_type": "code",
   "execution_count": 80,
   "metadata": {},
   "outputs": [
    {
     "data": {
      "text/plain": [
       "1.0"
      ]
     },
     "execution_count": 80,
     "metadata": {},
     "output_type": "execute_result"
    }
   ],
   "source": [
    "np.mean(ppn.predict(X_test) == y_test)"
   ]
  }
 ],
 "metadata": {
  "kernelspec": {
   "display_name": "Python 3",
   "language": "python",
   "name": "python3"
  },
  "language_info": {
   "codemirror_mode": {
    "name": "ipython",
    "version": 3
   },
   "file_extension": ".py",
   "mimetype": "text/x-python",
   "name": "python",
   "nbconvert_exporter": "python",
   "pygments_lexer": "ipython3",
   "version": "3.6.5"
  }
 },
 "nbformat": 4,
 "nbformat_minor": 2
}
